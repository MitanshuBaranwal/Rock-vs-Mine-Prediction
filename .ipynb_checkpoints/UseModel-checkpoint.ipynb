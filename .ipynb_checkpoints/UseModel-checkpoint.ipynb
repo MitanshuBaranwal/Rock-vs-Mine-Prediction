{
 "cells": [
  {
   "cell_type": "code",
   "execution_count": 9,
   "id": "1cf1993e",
   "metadata": {},
   "outputs": [],
   "source": [
    "import joblib\n",
    "import numpy as np\n",
    "loaded_model = joblib.load(r\"RockSonarModel.pkl\")\n"
   ]
  },
  {
   "cell_type": "code",
   "execution_count": 11,
   "id": "8358305d",
   "metadata": {},
   "outputs": [
    {
     "name": "stdout",
     "output_type": "stream",
     "text": [
      "It is Rock\n"
     ]
    }
   ],
   "source": [
    "input_data = (0.0200,0.0371,0.0428,0.0207,0.0954,0.0986,0.1539,0.1601,0.3109,0.2111,0.1609,0.1582,0.2238,0.0645,0.0660,0.2273,0.3100,0.2999,0.5078,0.4797,0.5783,0.5071,0.4328,0.5550,0.6711,0.6415,0.7104,0.8080,0.6791,0.3857,0.1307,0.2604,0.5121,0.7547,0.8537,0.8507,0.6692,0.6097,0.4943,0.2744,0.0510,0.2834,0.2825,0.4256,0.2641,0.1386,0.1051,0.1343,0.0383,0.0324,0.0232,0.0027,0.0065,0.0159,0.0072,0.0167,0.0180,0.0084,0.0090,0.0032)\n",
    "\n",
    "#changing input data to numpy array\n",
    "data_to_numpy =  np.asarray(input_data)\n",
    "\n",
    "# reshape data as we are predicting for one instance\n",
    "input_data_reshaped = data_to_numpy.reshape(1,-1)\n",
    "#prediction = model.predict(input_data_reshaped)\n",
    "prediction = loaded_model.predict(input_data_reshaped)\n",
    "\n",
    "if prediction[0] == \"R\":\n",
    "    print(\"It is Rock\")\n",
    "else:\n",
    "    print(\"It is Mine\")"
   ]
  },
  {
   "cell_type": "code",
   "execution_count": null,
   "id": "398e15ed",
   "metadata": {},
   "outputs": [],
   "source": []
  }
 ],
 "metadata": {
  "kernelspec": {
   "display_name": "Python 3 (ipykernel)",
   "language": "python",
   "name": "python3"
  },
  "language_info": {
   "codemirror_mode": {
    "name": "ipython",
    "version": 3
   },
   "file_extension": ".py",
   "mimetype": "text/x-python",
   "name": "python",
   "nbconvert_exporter": "python",
   "pygments_lexer": "ipython3",
   "version": "3.11.4"
  }
 },
 "nbformat": 4,
 "nbformat_minor": 5
}
